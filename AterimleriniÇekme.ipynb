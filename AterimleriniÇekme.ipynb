{
  "nbformat": 4,
  "nbformat_minor": 0,
  "metadata": {
    "colab": {
      "provenance": [],
      "authorship_tag": "ABX9TyNuvYZzNgPInE8HjxxX3HIa",
      "include_colab_link": true
    },
    "kernelspec": {
      "name": "python3",
      "display_name": "Python 3"
    },
    "language_info": {
      "name": "python"
    }
  },
  "cells": [
    {
      "cell_type": "markdown",
      "metadata": {
        "id": "view-in-github",
        "colab_type": "text"
      },
      "source": [
        "<a href=\"https://colab.research.google.com/github/arzuunr/100_day_challenge/blob/main/Aterimlerini%C3%87ekme.ipynb\" target=\"_parent\"><img src=\"https://colab.research.google.com/assets/colab-badge.svg\" alt=\"Open In Colab\"/></a>"
      ]
    },
    {
      "cell_type": "code",
      "execution_count": 3,
      "metadata": {
        "colab": {
          "base_uri": "https://localhost:8080/"
        },
        "id": "f5heEHnPSTeG",
        "outputId": "ee150d0a-1f70-4c77-8fe3-435b963ba4f9"
      },
      "outputs": [
        {
          "output_type": "stream",
          "name": "stdout",
          "text": [
            "395 terim çekildi. Örnek: ['Skip to content', 'News', 'Markets', 'Companies', 'Earnings']\n"
          ]
        }
      ],
      "source": [
        "import requests\n",
        "from bs4 import BeautifulSoup\n",
        "import pandas as pd\n",
        "import time\n",
        "\n",
        "# Hedef URL\n",
        "url = \"https://www.investopedia.com/terms-beginning-with-a-4769351\"\n",
        "\n",
        "# Headers\n",
        "headers = {\n",
        "    \"User-Agent\": \"Mozilla/5.0 (Macintosh; Intel Mac OS X 10_15_7) AppleWebKit/537.36 (KHTML, like Gecko) Chrome/137.0.0.0 Safari/537.36\",\n",
        "    \"Accept\": \"text/html,application/xhtml+xml,application/xml;q=0.9,image/avif,image/webp,image/apng,*/*;q=0.8,application/signed-exchange;v=b3;q=0.7\",\n",
        "    \"Accept-Language\": \"tr-TR,tr;q=0.9,en-US;q=0.8,en;q=0.7\",\n",
        "    \"Accept-Encoding\": \"gzip, deflate, br, zstd\"\n",
        "}\n",
        "\n",
        "# Sayfayı çek\n",
        "response = requests.get(url, headers=headers)\n",
        "\n",
        "# Hata kontrolü\n",
        "if response.status_code == 200:\n",
        "    # HTML'yi parse et\n",
        "    soup = BeautifulSoup(response.content, \"html.parser\")\n",
        "\n",
        "    # Terimlerin bulunduğu HTML elementlerini bul (class'ı doğrulayın)\n",
        "    terms = []\n",
        "    for link in soup.find_all(\"a\"):  # Önce tüm <a> etiketlerini dene\n",
        "        term = link.text.strip()\n",
        "        if term and len(term.split()) > 0:  # Boş veya anlamsız içerikleri filtrele\n",
        "            terms.append(term)\n",
        "\n",
        "    # Benzersiz terimleri al\n",
        "    terms = list(dict.fromkeys(terms))  # Tekrarları kaldır\n",
        "\n",
        "    # Terimleri bir DataFrame'e kaydet\n",
        "    df = pd.DataFrame(terms, columns=[\"Term\"])\n",
        "    df.to_csv(\"investopedia_terms_a.csv\", index=False)\n",
        "\n",
        "    print(f\"{len(terms)} terim çekildi. Örnek: {terms[:5]}\")\n",
        "else:\n",
        "    print(f\"Hata: {response.status_code} - {response.text}\")\n",
        "\n",
        "# Rate limiting için bekleme\n",
        "time.sleep(2)"
      ]
    },
    {
      "cell_type": "code",
      "source": [
        "import requests\n",
        "from bs4 import BeautifulSoup\n",
        "import pandas as pd\n",
        "import time\n",
        "\n",
        "url = \"https://www.odeabank.com.tr/hakkimizda/oblog/adan-zye-bankacilik-ve-finans-terimleri-sozlugu\"\n",
        "\n",
        "headers = {\n",
        "    \"User-Agent\": \"Mozilla/5.0 (Macintosh; Intel Mac OS X 10_15_7) AppleWebKit/605.1.15 (KHTML, like Gecko) Version/18.4 Safari/605.1.15\",\n",
        "    \"Accept\": \"text/html,application/xhtml+xml,application/xml;q=0.9,*/*;q=0.8\",\n",
        "    \"Accept-Encoding\": \"gzip, deflate, br\",\n",
        "    \"Accept-Language\": \"tr-TR,tr;q=0.9,en-GB,en;q=0.9\"\n",
        "}\n",
        "\n",
        "response = requests.get(url, headers=headers)\n",
        "soup = BeautifulSoup(response.content, \"html.parser\")\n",
        "\n",
        "terms = []\n",
        "# \"A\" başlıklı bölümü bul\n",
        "a_section = soup.find(\"h2\", string=\"A\")  # \"A\" başlığını bul\n",
        "if a_section:\n",
        "    # Başlıktan sonraki terimleri al (örneğin, bir <ul> veya <div> içinde)\n",
        "    term_container = a_section.find_next(\"ul\") or a_section.find_next(\"div\")  # Tahmini etiket\n",
        "    if term_container:\n",
        "        for link in term_container.find_all(\"a\"):\n",
        "            term = link.text.strip()\n",
        "            if term and len(term.split()) > 0:\n",
        "                terms.append(term)\n",
        "\n",
        "terms = list(dict.fromkeys(terms))  # Tekrarları kaldır\n",
        "df = pd.DataFrame(terms, columns=[\"Term\"])\n",
        "df.to_csv(\"odeabank_terms_a_only.csv\", index=False)\n",
        "\n",
        "print(f\"{len(terms)} terim çekildi. Örnek: {terms[:5]}\")"
      ],
      "metadata": {
        "colab": {
          "base_uri": "https://localhost:8080/"
        },
        "id": "5xwJH_Vn4j1C",
        "outputId": "cc77d84f-8acf-48eb-e5bb-77e923c43e29"
      },
      "execution_count": 14,
      "outputs": [
        {
          "output_type": "stream",
          "name": "stdout",
          "text": [
            "35 terim çekildi. Örnek: ['Hakkımızda', 'Banka Bilgileri', 'Kurumsal Yönetim', 'Kurumsal Kütüphane', 'İnsan Kaynakları - Odealist']\n"
          ]
        }
      ]
    },
    {
      "cell_type": "code",
      "source": [
        "import requests\n",
        "from bs4 import BeautifulSoup\n",
        "import pandas as pd\n",
        "\n",
        "url = \"https://www.odeabank.com.tr/hakkimizda/oblog/adan-zye-bankacilik-ve-finans-terimleri-sozlugu\"\n",
        "headers = {\n",
        "    \"User-Agent\": \"Mozilla/5.0 (Macintosh; Intel Mac OS X 10_15_7) AppleWebKit/605.1.15 (KHTML, like Gecko) Version/18.4 Safari/605.1.15\",\n",
        "    \"Accept\": \"text/html,application/xhtml+xml,application/xml;q=0.9\",\n",
        "    \"Accept-Language\": \"tr-TR,tr;q=0.9,en;q=0.8\"\n",
        "}\n",
        "\n",
        "response = requests.get(url, headers=headers)\n",
        "\n",
        "soup = BeautifulSoup(response.content, \"html.parser\")\n",
        "\n",
        "terms = []\n",
        "\n",
        "# Tüm <h3> etiketlerini al\n",
        "for h3 in soup.find_all(\"h3\"):\n",
        "    term = h3.get_text(strip=True)\n",
        "\n",
        "    # Sadece \"A\" harfiyle başlayanlar\n",
        "    if term and term[0].upper() == \"A\":\n",
        "        # Açıklamayı al (bir sonraki <p> elementi)\n",
        "        p = h3.find_next_sibling(\"p\")\n",
        "        explanation = p.get_text(strip=True) if p else \"\"\n",
        "\n",
        "        terms.append({\"Terim\": term, \"Açıklama\": explanation})\n",
        "\n",
        "# DataFrame'e aktar ve CSV'ye yaz\n",
        "df = pd.DataFrame(terms)\n",
        "df.to_csv(\"odeabank_terimler_A.csv\", index=False)\n",
        "\n",
        "print(df.head())\n",
        "\n"
      ],
      "metadata": {
        "colab": {
          "base_uri": "https://localhost:8080/"
        },
        "id": "IevOj9kaKXzl",
        "outputId": "4355c966-1248-4c3c-f1f8-6e2a2e803d40"
      },
      "execution_count": 27,
      "outputs": [
        {
          "output_type": "stream",
          "name": "stdout",
          "text": [
            "         Terim                                           Açıklama\n",
            "0     Arbitraj  Arbitraj, fiyat farkını nakde çevirmek için bi...\n",
            "1  Açığa Satış  Açığa satış, sahip olunmayan hisse senetlerini...\n",
            "2   Amortisman  Amortisman, piyasa koşulları veya aşınma ve yı...\n",
            "3    Akademi’O  Akademi’O; yatırımlarına yön vermek isteyen Od...\n"
          ]
        }
      ]
    }
  ]
}