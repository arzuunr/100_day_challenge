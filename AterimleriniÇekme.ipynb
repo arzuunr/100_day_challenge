{
  "nbformat": 4,
  "nbformat_minor": 0,
  "metadata": {
    "colab": {
      "provenance": [],
      "authorship_tag": "ABX9TyNW5Q6X4ulFv4Fkr/L+4V41",
      "include_colab_link": true
    },
    "kernelspec": {
      "name": "python3",
      "display_name": "Python 3"
    },
    "language_info": {
      "name": "python"
    }
  },
  "cells": [
    {
      "cell_type": "markdown",
      "metadata": {
        "id": "view-in-github",
        "colab_type": "text"
      },
      "source": [
        "<a href=\"https://colab.research.google.com/github/arzuunr/100_day_challenge/blob/main/Aterimlerini%C3%87ekme.ipynb\" target=\"_parent\"><img src=\"https://colab.research.google.com/assets/colab-badge.svg\" alt=\"Open In Colab\"/></a>"
      ]
    },
    {
      "cell_type": "code",
      "execution_count": 3,
      "metadata": {
        "colab": {
          "base_uri": "https://localhost:8080/"
        },
        "id": "f5heEHnPSTeG",
        "outputId": "ee150d0a-1f70-4c77-8fe3-435b963ba4f9"
      },
      "outputs": [
        {
          "output_type": "stream",
          "name": "stdout",
          "text": [
            "395 terim çekildi. Örnek: ['Skip to content', 'News', 'Markets', 'Companies', 'Earnings']\n"
          ]
        }
      ],
      "source": [
        "import requests\n",
        "from bs4 import BeautifulSoup\n",
        "import pandas as pd\n",
        "import time\n",
        "\n",
        "# Hedef URL\n",
        "url = \"https://www.investopedia.com/terms-beginning-with-a-4769351\"\n",
        "\n",
        "# Headers\n",
        "headers = {\n",
        "    \"User-Agent\": \"Mozilla/5.0 (Macintosh; Intel Mac OS X 10_15_7) AppleWebKit/537.36 (KHTML, like Gecko) Chrome/137.0.0.0 Safari/537.36\",\n",
        "    \"Accept\": \"text/html,application/xhtml+xml,application/xml;q=0.9,image/avif,image/webp,image/apng,*/*;q=0.8,application/signed-exchange;v=b3;q=0.7\",\n",
        "    \"Accept-Language\": \"tr-TR,tr;q=0.9,en-US;q=0.8,en;q=0.7\",\n",
        "    \"Accept-Encoding\": \"gzip, deflate, br, zstd\"\n",
        "}\n",
        "\n",
        "# Sayfayı çek\n",
        "response = requests.get(url, headers=headers)\n",
        "\n",
        "# Hata kontrolü\n",
        "if response.status_code == 200:\n",
        "    # HTML'yi parse et\n",
        "    soup = BeautifulSoup(response.content, \"html.parser\")\n",
        "\n",
        "    # Terimlerin bulunduğu HTML elementlerini bul (class'ı doğrulayın)\n",
        "    terms = []\n",
        "    for link in soup.find_all(\"a\"):  # Önce tüm <a> etiketlerini dene\n",
        "        term = link.text.strip()\n",
        "        if term and len(term.split()) > 0:  # Boş veya anlamsız içerikleri filtrele\n",
        "            terms.append(term)\n",
        "\n",
        "    # Benzersiz terimleri al\n",
        "    terms = list(dict.fromkeys(terms))  # Tekrarları kaldır\n",
        "\n",
        "    # Terimleri bir DataFrame'e kaydet\n",
        "    df = pd.DataFrame(terms, columns=[\"Term\"])\n",
        "    df.to_csv(\"investopedia_terms_a.csv\", index=False)\n",
        "\n",
        "    print(f\"{len(terms)} terim çekildi. Örnek: {terms[:5]}\")\n",
        "else:\n",
        "    print(f\"Hata: {response.status_code} - {response.text}\")\n",
        "\n",
        "# Rate limiting için bekleme\n",
        "time.sleep(2)"
      ]
    }
  ]
}